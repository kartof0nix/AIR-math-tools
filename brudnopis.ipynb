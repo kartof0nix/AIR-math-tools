{
 "cells": [
  {
   "cell_type": "markdown",
   "id": "4124acd6",
   "metadata": {},
   "source": [
    "# Stałe pole wektorowe"
   ]
  },
  {
   "cell_type": "code",
   "execution_count": null,
   "id": "1e5038d5",
   "metadata": {},
   "outputs": [],
   "source": [
    "from math import *\n",
    "import numpy as np\n",
    "\n",
    "import matplotlib.pyplot as plt\n",
    "\n",
    "x = np.linspace(-2, 2, 20)\n",
    "y = np.linspace(-2, 2, 20)\n",
    "X, Y = np.meshgrid(x, y)\n",
    "# print(X)\n",
    "\n",
    "Z = X + 1j * Y\n",
    "# Definicja funkcji o stałej pochodnej — f(z) = 1\n",
    "F_const = 1 + 0j  # stała zespolona\n",
    "\n",
    "# Składowe wektora — wszędzie stała wartość 1 + 0i\n",
    "U_const = np.full_like(X, np.real(F_const))\n",
    "V_const = np.full_like(Y, np.imag(F_const))\n",
    "\n",
    "# Wykres pola wektorowego\n",
    "plt.figure(figsize=(7, 7))\n",
    "plt.quiver(X, Y, U_const, V_const, color='green')\n",
    "plt.title(r\"Pole wektorowe funkcji $f(z) = 1$ (stała pochodna $f'(z) = 0$)\")\n",
    "plt.xlabel(\"Re(z)\")\n",
    "plt.ylabel(\"Im(z)\")\n",
    "plt.axis('equal')\n",
    "plt.grid(True)\n",
    "plt.tight_layout()\n",
    "plt.show()\n",
    "# "
   ]
  }
 ],
 "metadata": {
  "language_info": {
   "name": "python"
  }
 },
 "nbformat": 4,
 "nbformat_minor": 5
}
